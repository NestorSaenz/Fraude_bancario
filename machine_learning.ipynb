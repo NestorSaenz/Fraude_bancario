{
 "cells": [
  {
   "cell_type": "markdown",
   "metadata": {},
   "source": [
    "# Machine Learning\n"
   ]
  },
  {
   "cell_type": "code",
   "execution_count": 15,
   "metadata": {},
   "outputs": [],
   "source": [
    "\n",
    "import pandas as pd\n",
    "from sklearn.model_selection import train_test_split\n",
    "from sklearn.linear_model import LogisticRegression\n",
    "from sklearn.metrics import accuracy_score\n",
    "from sklearn.metrics import precision_score\n",
    "from sklearn.metrics import recall_score, f1_score, roc_auc_score, roc_curve"
   ]
  },
  {
   "cell_type": "markdown",
   "metadata": {},
   "source": [
    "Se carga el archivo csv"
   ]
  },
  {
   "cell_type": "code",
   "execution_count": 16,
   "metadata": {},
   "outputs": [],
   "source": [
    "df = pd.read_csv('balanced_data.csv')"
   ]
  },
  {
   "cell_type": "code",
   "execution_count": 17,
   "metadata": {},
   "outputs": [],
   "source": [
    "# Se dividen los datos en conjuntos de entrenamiento y prueba\n",
    "X = df.drop(columns='isFraud')\n",
    "y = df['isFraud']\n",
    "\n",
    "# Se dividen los datos en conjunto de prueba y entrenamiento\n",
    "x_train, x_test, y_train, y_test = train_test_split(X, y, test_size=0.20, random_state=42)"
   ]
  },
  {
   "cell_type": "markdown",
   "metadata": {},
   "source": [
    "### Regresión logistica"
   ]
  },
  {
   "cell_type": "code",
   "execution_count": 18,
   "metadata": {},
   "outputs": [
    {
     "name": "stdout",
     "output_type": "stream",
     "text": [
      "Accuracy del modelo: 0.9002556129656295\n",
      "Precisión del modelo: 0.9032393116221639\n"
     ]
    }
   ],
   "source": [
    "# Se crea y entrena el modelo\n",
    "model = LogisticRegression(max_iter=200)\n",
    "model.fit(x_train, y_train)\n",
    "y_pred = model.predict(x_test)\n",
    "\n",
    "# Se calcula la presición del modelo\n",
    "accuracy_regresion = accuracy_score(y_test, y_pred)\n",
    "precision_regresion = precision_score(y_test, y_pred)\n",
    "recall_regresion = recall_score(y_test, y_pred)\n",
    "f1_score_regresion = f1_score(y_test, y_pred)\n",
    "auc_roc_regresion = roc_auc_score(y_test, y_pred)\n",
    "print(\"Accuracy del modelo:\", accuracy_regresion)\n",
    "print(\"Precisión del modelo:\", precision_regresion)\n"
   ]
  },
  {
   "cell_type": "markdown",
   "metadata": {},
   "source": [
    "### Arboles de decisión"
   ]
  },
  {
   "cell_type": "code",
   "execution_count": 19,
   "metadata": {},
   "outputs": [
    {
     "name": "stdout",
     "output_type": "stream",
     "text": [
      "Accuracy del modelo: 0.9919244882959044\n",
      "Precisión del modelo: 0.984141652010612\n"
     ]
    }
   ],
   "source": [
    "from sklearn.tree import DecisionTreeClassifier\n",
    "\n",
    "# Se crea el modelo y se entrena\n",
    "model = DecisionTreeClassifier()\n",
    "model.fit(x_train, y_train)\n",
    "\n",
    "# Predicciones\n",
    "y_pred = model.predict(x_test)\n",
    "\n",
    "# Calcular la precisión del modelo\n",
    "accuracy_arbol = accuracy_score(y_test, y_pred)\n",
    "precision_arbol = precision_score(y_test, y_pred)\n",
    "recall_arbol = recall_score(y_test, y_pred)\n",
    "f1_score_arbol = f1_score(y_test, y_pred)\n",
    "auc_roc_arbol = roc_auc_score(y_test, y_pred)\n",
    "print(\"Accuracy del modelo:\", accuracy_arbol)\n",
    "print(\"Precisión del modelo:\", precision_arbol)"
   ]
  },
  {
   "cell_type": "markdown",
   "metadata": {},
   "source": [
    "### Random Forest"
   ]
  },
  {
   "cell_type": "code",
   "execution_count": 20,
   "metadata": {},
   "outputs": [
    {
     "name": "stdout",
     "output_type": "stream",
     "text": [
      "Accuracy del modelo: 0.9862254530948159\n",
      "Precisión del modelo: 0.9788109927879197\n"
     ]
    }
   ],
   "source": [
    "from sklearn.ensemble import RandomForestClassifier\n",
    "# Se inicializa y entrena el modelo\n",
    "model = RandomForestClassifier(max_depth=30, n_estimators=12, random_state=42)\n",
    "model.fit(x_train, y_train)\n",
    "y_pred = model.predict(x_test)\n",
    "accuracy_random_forest = accuracy_score(y_test, y_pred)\n",
    "precision_random_forest = precision_score(y_test, y_pred)\n",
    "recall_random_forest= recall_score(y_test, y_pred)\n",
    "f1_score_random_forest = f1_score(y_test, y_pred)\n",
    "auc_roc_random_forest = roc_auc_score(y_test, y_pred)\n",
    "print(\"Accuracy del modelo:\", accuracy_random_forest)\n",
    "print(\"Precisión del modelo:\", precision_random_forest)"
   ]
  },
  {
   "cell_type": "markdown",
   "metadata": {},
   "source": [
    "### Modelo Naive Bayes"
   ]
  },
  {
   "cell_type": "code",
   "execution_count": 21,
   "metadata": {},
   "outputs": [
    {
     "name": "stdout",
     "output_type": "stream",
     "text": [
      "Accuracy del modelo: 0.7322095561815712\n",
      "Precisión del modelo: 0.5899556513189549\n"
     ]
    }
   ],
   "source": [
    "from sklearn.naive_bayes import GaussianNB\n",
    "\n",
    "# se instacia el modelo\n",
    "model = GaussianNB()\n",
    "\n",
    "# se etrena el modelo\n",
    "model.fit(x_train, y_train)\n",
    "\n",
    "# realizamos predicciones sobre el conjunto de prueba\n",
    "y_pred = model.predict(x_test)\n",
    "\n",
    "# calcular la precisión del modelo\n",
    "accuracy_naive = accuracy_score(y_test, y_pred)\n",
    "precision_naive = precision_score(y_test, y_pred)\n",
    "recall_naive = recall_score(y_test, y_pred)\n",
    "f1_score_naive = f1_score(y_test, y_pred)\n",
    "auc_roc_naive = roc_auc_score(y_test, y_pred)\n",
    "\n",
    "print(\"Accuracy del modelo:\", accuracy_naive)\n",
    "print(\"Precisión del modelo:\", precision_naive)"
   ]
  },
  {
   "cell_type": "markdown",
   "metadata": {},
   "source": [
    "Creamos una lista para guardar cada metrica  de cada modelo\n"
   ]
  },
  {
   "cell_type": "code",
   "execution_count": 40,
   "metadata": {},
   "outputs": [],
   "source": [
    "nombre_modelo = ['Regresión Logistica', 'Arból de Decisión', 'Random Forest', 'Naive Bayes']\n",
    "accuracy = [accuracy_regresion, accuracy_arbol, accuracy_random_forest, accuracy_naive]\n",
    "precision = [precision_regresion, precision_arbol, precision_random_forest, precision_naive]\n",
    "recall = [recall_regresion, recall_arbol, recall_random_forest, recall_naive]\n",
    "f1Score = [f1_score_regresion, f1_score_arbol, f1_score_random_forest, f1_score_naive]\n",
    "auc_roc = [auc_roc_regresion, auc_roc_arbol, auc_roc_random_forest, auc_roc_naive]\n"
   ]
  },
  {
   "cell_type": "markdown",
   "metadata": {},
   "source": [
    "Guardamos en un diccionario las listas anteriores"
   ]
  },
  {
   "cell_type": "code",
   "execution_count": 45,
   "metadata": {},
   "outputs": [],
   "source": [
    "resultados = {\n",
    "    'Nombre_modelo':nombre_modelo,\n",
    "    'Accuracy': accuracy,\n",
    "    'Precision':precision,\n",
    "    'Recall': recall,\n",
    "    'F1-score': f1Score,\n",
    "    'AUC_ROC': auc_roc\n",
    "}"
   ]
  },
  {
   "cell_type": "markdown",
   "metadata": {},
   "source": [
    "Se crea un DataFrame a partir del diccionario"
   ]
  },
  {
   "cell_type": "code",
   "execution_count": 44,
   "metadata": {},
   "outputs": [
    {
     "data": {
      "text/html": [
       "<div>\n",
       "<style scoped>\n",
       "    .dataframe tbody tr th:only-of-type {\n",
       "        vertical-align: middle;\n",
       "    }\n",
       "\n",
       "    .dataframe tbody tr th {\n",
       "        vertical-align: top;\n",
       "    }\n",
       "\n",
       "    .dataframe thead th {\n",
       "        text-align: right;\n",
       "    }\n",
       "</style>\n",
       "<table border=\"1\" class=\"dataframe\">\n",
       "  <thead>\n",
       "    <tr style=\"text-align: right;\">\n",
       "      <th></th>\n",
       "      <th>Accuracy</th>\n",
       "      <th>Precision</th>\n",
       "      <th>Recall</th>\n",
       "      <th>F1-score</th>\n",
       "      <th>AUC_ROC</th>\n",
       "    </tr>\n",
       "    <tr>\n",
       "      <th>Nombre_modelo</th>\n",
       "      <th></th>\n",
       "      <th></th>\n",
       "      <th></th>\n",
       "      <th></th>\n",
       "      <th></th>\n",
       "    </tr>\n",
       "  </thead>\n",
       "  <tbody>\n",
       "    <tr>\n",
       "      <th>Regresión Logistica</th>\n",
       "      <td>0.900256</td>\n",
       "      <td>0.903239</td>\n",
       "      <td>0.830035</td>\n",
       "      <td>0.865091</td>\n",
       "      <td>0.887151</td>\n",
       "    </tr>\n",
       "    <tr>\n",
       "      <th>Arból de Decisión</th>\n",
       "      <td>0.991924</td>\n",
       "      <td>0.984142</td>\n",
       "      <td>0.995075</td>\n",
       "      <td>0.989578</td>\n",
       "      <td>0.992512</td>\n",
       "    </tr>\n",
       "    <tr>\n",
       "      <th>Random Forest</th>\n",
       "      <td>0.986225</td>\n",
       "      <td>0.978811</td>\n",
       "      <td>0.985584</td>\n",
       "      <td>0.982186</td>\n",
       "      <td>0.986106</td>\n",
       "    </tr>\n",
       "    <tr>\n",
       "      <th>Naive Bayes</th>\n",
       "      <td>0.732210</td>\n",
       "      <td>0.589956</td>\n",
       "      <td>1.000000</td>\n",
       "      <td>0.742103</td>\n",
       "      <td>0.782183</td>\n",
       "    </tr>\n",
       "  </tbody>\n",
       "</table>\n",
       "</div>"
      ],
      "text/plain": [
       "                     Accuracy  Precision    Recall  F1-score   AUC_ROC\n",
       "Nombre_modelo                                                         \n",
       "Regresión Logistica  0.900256   0.903239  0.830035  0.865091  0.887151\n",
       "Arból de Decisión    0.991924   0.984142  0.995075  0.989578  0.992512\n",
       "Random Forest        0.986225   0.978811  0.985584  0.982186  0.986106\n",
       "Naive Bayes          0.732210   0.589956  1.000000  0.742103  0.782183"
      ]
     },
     "execution_count": 44,
     "metadata": {},
     "output_type": "execute_result"
    }
   ],
   "source": [
    "df_metricas = pd.DataFrame(resultados).set_index('Nombre_modelo')\n",
    "df_metricas"
   ]
  }
 ],
 "metadata": {
  "kernelspec": {
   "display_name": "Python 3",
   "language": "python",
   "name": "python3"
  },
  "language_info": {
   "codemirror_mode": {
    "name": "ipython",
    "version": 3
   },
   "file_extension": ".py",
   "mimetype": "text/x-python",
   "name": "python",
   "nbconvert_exporter": "python",
   "pygments_lexer": "ipython3",
   "version": "3.12.1"
  }
 },
 "nbformat": 4,
 "nbformat_minor": 2
}
